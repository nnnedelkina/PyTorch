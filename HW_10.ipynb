{
 "cells": [
  {
   "cell_type": "markdown",
   "id": "85b1e4a2",
   "metadata": {},
   "source": [
    "# ДЗ 10\n",
    "\n",
    "Как я поняла, ДЗ для 10 урока нет, если оно появится, оно будет здесь"
   ]
  },
  {
   "cell_type": "code",
   "execution_count": null,
   "id": "20bc19ca",
   "metadata": {},
   "outputs": [],
   "source": []
  }
 ],
 "metadata": {
  "kernelspec": {
   "display_name": "Python 3 (ipykernel)",
   "language": "python",
   "name": "python3"
  },
  "language_info": {
   "codemirror_mode": {
    "name": "ipython",
    "version": 3
   },
   "file_extension": ".py",
   "mimetype": "text/x-python",
   "name": "python",
   "nbconvert_exporter": "python",
   "pygments_lexer": "ipython3",
   "version": "3.7.12"
  }
 },
 "nbformat": 4,
 "nbformat_minor": 5
}
