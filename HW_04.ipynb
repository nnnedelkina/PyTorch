{
 "cells": [
  {
   "cell_type": "markdown",
   "id": "2d788e40",
   "metadata": {},
   "source": [
    "# ДЗ 4\n",
    "\n",
    "* Обучение классификатора картинок на примере CIFAR-100 (датасет можно изменить) сверточной сетью (самописной)\n",
    "* Обучение классификатора картинок на примере CIFAR-100 (датасет можно изменить) через дообучение ImageNet Resnet-50\n",
    "* Обучение классификатора картинок на примере CIFAR-100 (датасет можно изменить) через дообучение ImageNet Resnet-50 с аугментацией (самописной, с использованием Pytorch встроенных методов)\n",
    "\n",
    "# Извините, пока заглушка, будет закончено до конца дня 19.02\n"
   ]
  },
  {
   "cell_type": "code",
   "execution_count": null,
   "id": "af136f84",
   "metadata": {},
   "outputs": [],
   "source": []
  }
 ],
 "metadata": {
  "kernelspec": {
   "display_name": "Python 3 (ipykernel)",
   "language": "python",
   "name": "python3"
  },
  "language_info": {
   "codemirror_mode": {
    "name": "ipython",
    "version": 3
   },
   "file_extension": ".py",
   "mimetype": "text/x-python",
   "name": "python",
   "nbconvert_exporter": "python",
   "pygments_lexer": "ipython3",
   "version": "3.7.12"
  }
 },
 "nbformat": 4,
 "nbformat_minor": 5
}
