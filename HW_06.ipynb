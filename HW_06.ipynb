{
 "cells": [
  {
   "cell_type": "markdown",
   "id": "14c4e0ad",
   "metadata": {},
   "source": [
    "## ДЗ 6\n",
    "\n",
    "* Самостоятельно обучить классификатор текстов на примере 20newsgroups\n",
    "* На примере 20 newsgroups попробовать разные параметры для сверток для классификации текстов"
   ]
  },
  {
   "cell_type": "code",
   "execution_count": 67,
   "id": "26c653f3",
   "metadata": {},
   "outputs": [],
   "source": [
    "import random, re, glob\n",
    "import numpy as np\n",
    "import pandas as pd\n",
    "import torch\n",
    "import torch.nn as nn\n",
    "from functools import lru_cache\n",
    "from tqdm.notebook import tqdm\n"
   ]
  },
  {
   "cell_type": "code",
   "execution_count": 63,
   "id": "ee574212",
   "metadata": {},
   "outputs": [],
   "source": [
    "fields = ['newsgroup', 'document_id', 'from', 'subject', 'archive-name', 'last-modified']\n",
    "\n",
    "def parse_file(path):\n",
    "    path = path.replace('\\\\', '/')\n",
    "    newsgroup=path.rsplit('/', 1)[1].rsplit('.', 1)[0]\n",
    "    print(f\"Читаем {path}, newsgroup {newsgroup}\")\n",
    "    res = []\n",
    "    header=False\n",
    "    with open(path, 'r') as fd:\n",
    "        for line in fd:\n",
    "            m = re.match(fr\"({'|'.join(fields)}):\\s*(\\S.*)\", line, re.I)\n",
    "            if m:\n",
    "                if not header:\n",
    "                    res.append({ 'text': '', **dict((f, '') for f in fields) })\n",
    "                    res[-1]['newsgroup'] = newsgroup\n",
    "                    header = True\n",
    "                res[-1][m.group(1).lower()] = m.group(2)\n",
    "            else:\n",
    "                if header:\n",
    "                    if line.strip() and not re.match(fr\"[\\w\\-]+:.*\", line, re.I):\n",
    "                        header = False\n",
    "                if not header:\n",
    "                    res[-1]['text'] += line\n",
    "    return res\n",
    "\n",
    "@lru_cache()\n",
    "def parse_directory(path):\n",
    "    return pd.DataFrame([ r for f in glob.glob(path + '/*.txt') for r in parse_file(f) ])\n",
    "        \n"
   ]
  },
  {
   "cell_type": "code",
   "execution_count": 74,
   "id": "765636fc",
   "metadata": {},
   "outputs": [
    {
     "name": "stdout",
     "output_type": "stream",
     "text": [
      "Подготовка текста ...\n"
     ]
    },
    {
     "data": {
      "application/vnd.jupyter.widget-view+json": {
       "model_id": "e1ae36fc4fd34f54aa003e87fcd36c37",
       "version_major": 2,
       "version_minor": 0
      },
      "text/plain": [
       "  0%|          | 0/39675 [00:00<?, ?it/s]"
      ]
     },
     "metadata": {},
     "output_type": "display_data"
    },
    {
     "name": "stdout",
     "output_type": "stream",
     "text": [
      "Преобразование в индексы ...\n",
      "Dataset подготовлен\n"
     ]
    }
   ],
   "source": [
    "from string import punctuation\n",
    "from stop_words import get_stop_words\n",
    "from pymorphy2 import MorphAnalyzer\n",
    "\n",
    "from collections import Counter\n",
    "\n",
    "class Dataset(torch.utils.data.Dataset):\n",
    "    \n",
    "    \n",
    "    def __init__(self, data_path):\n",
    "        df = parse_directory(data_path)\n",
    "\n",
    "        self.labels_i2w = df['newsgroup'].unique() \n",
    "        self.labels_w2i = dict( (w, i) for i, w in enumerate(self.labels_i2w) )\n",
    "        self.labels = df['newsgroup'].apply(lambda ng: self.labels_w2i[ng]).tolist()\n",
    "        \n",
    "        sw = set(get_stop_words(\"en\"))\n",
    "        exclude = set(punctuation)\n",
    "        morpher = MorphAnalyzer()\n",
    "\n",
    "        def preprocess(txt):\n",
    "            txt = ''.join(c for c in txt if c not in exclude)\n",
    "            txt = txt.lower()\n",
    "            return [morpher.parse(word)[0].normal_form for word in txt.split() if word and word not in sw] # удалить пустые сразу\n",
    "\n",
    "        print('Подготовка текста ...')\n",
    "        texts = [preprocess(txt) for txt in tqdm(df['text'].tolist())]\n",
    "        \n",
    "        print('Преобразование в индексы ...')\n",
    "        words = [w for w, c in Counter(w for txt in texts for w in txt).items() if c > 10]\n",
    "        \n",
    "        self.words_i2w = ['', '__UNK__'] + words\n",
    "        self.words_w2i = w2i = dict( (w, i) for i, w in enumerate(self.words_i2w) )\n",
    "        \n",
    "        max_length = min(max([len(txt) for txt in texts]), 1024)\n",
    "        \n",
    "        self.length = max_length\n",
    "       \n",
    "        texts = [[w2i.get(w, w2i['__UNK__']) for w in txt] for txt in texts]\n",
    "        self.texts = [ torch.tensor(txt[:max_length] + [0] * (max_length - len(txt))) for txt in texts ]\n",
    "\n",
    "        assert(len(self.texts) == len(self.labels))\n",
    "        \n",
    "        print('Dataset подготовлен')\n",
    "        \n",
    "        \n",
    "    def __len__(self):\n",
    "        return len(self.texts)\n",
    "    \n",
    "    def __getitem__(self, idx):\n",
    "        return self.texts[idx], self.labels[idx]\n",
    "\n",
    "ds = Dataset('./20newsgroups')\n",
    "\n"
   ]
  },
  {
   "cell_type": "code",
   "execution_count": 80,
   "id": "44a5be7c",
   "metadata": {},
   "outputs": [],
   "source": [
    "from sklearn.model_selection import train_test_split \n",
    "\n",
    "ds_train, ds_val = train_test_split(ds, test_size=0.1, random_state=7)\n"
   ]
  },
  {
   "cell_type": "code",
   "execution_count": 78,
   "id": "a18bd0c4",
   "metadata": {},
   "outputs": [],
   "source": [
    "def evaluate(net, ds):\n",
    "    dl = torch.utils.data.DataLoader(ds, batch_size=128, shuffle=False)\n",
    "    loss = nn.CrossEntropyLoss(reduction='sum')\n",
    "    net.eval()\n",
    "    total_loss = 0\n",
    "    count = 0\n",
    "    matches = 0\n",
    "    for X, y in dl:\n",
    "        count += len(y)\n",
    "        preds = net(X)\n",
    "        total_loss += float(loss(preds, y)) # очень важно преобразовать во float здесь, иначе утекает память !!!\n",
    "        pred_classes = torch.argmax(preds, dim=1)\n",
    "        matches += int(sum(pred_classes == y))\n",
    "    return float(total_loss/count), float(matches/count), count\n",
    "\n",
    "\n",
    "def train_and_test(net, ds_train, ds_val, optimizer_class=torch.optim.Adam, n_epochs=10, lr=0.01, report_on=-1, batch_size=1024):\n",
    "    \n",
    "    print('========================================================')\n",
    "   \n",
    "    params = [ p for p in net.parameters() if p.requires_grad]\n",
    "    print('Число обучаемых параметров', len(params))\n",
    "    optimizer = optimizer_class(params, lr=0.01)\n",
    "    print(' Оптимизатор: ', optimizer)\n",
    "\n",
    "    def print_results():\n",
    "        for title, ds in [\n",
    "#                ('Тренировочный', ds_train), # слишком долго для resnet \n",
    "                ('Валидационный', ds_val)\n",
    "            ]:\n",
    "            r = evaluate(net, ds)\n",
    "            print(f\"    {title} набор: кросс-энтропия: {r[0]:.2f}, доля совпадений: {r[1]*100:.1f}%\")\n",
    "        return r\n",
    "    \n",
    "    print(' До обучения:')\n",
    "    print_results()\n",
    "    \n",
    "    dl_train = torch.utils.data.DataLoader(ds_train, batch_size=batch_size)\n",
    "    criterion = nn.CrossEntropyLoss()    \n",
    "\n",
    "    net.train()\n",
    "    report_on = max(len(dl_train) if report_on == -1 else report_on, 1)\n",
    "    for epoch in range(n_epochs):\n",
    "        print('--------- Эпоха ', epoch, '/', n_epochs, ' ------------------')\n",
    "        running_loss = 0.0\n",
    "        for i, data in enumerate(tqdm(dl_train)):\n",
    "            inputs, labels = data[0], data[1]\n",
    "\n",
    "            # обнуляем градиент\n",
    "            optimizer.zero_grad()\n",
    "\n",
    "            outputs = net(inputs)\n",
    "            loss = criterion(outputs, labels)\n",
    "            loss.backward()\n",
    "            optimizer.step()\n",
    "\n",
    "            # выводим статистику о процессе обучения\n",
    "            running_loss += loss.item()\n",
    "            if (i+1) % report_on == 0:    # печатаем каждые report_on mini-batches\n",
    "                print('Выучено батчей : %5d; loss: %.3f' % (i + 1, running_loss / report_on))\n",
    "                running_loss = 0.0\n",
    "                \n",
    "    print(' Обучение закончено!')\n",
    "    print(' После обучения:')\n",
    "    return print_results()\n",
    "\n",
    "\n"
   ]
  },
  {
   "cell_type": "code",
   "execution_count": 84,
   "id": "ea9e1918",
   "metadata": {},
   "outputs": [],
   "source": [
    "class Net(nn.Module):\n",
    "    def __init__(self, num_classes, vocab_size, embedding_dim = 128, linear_dim = 256, kernel_size=3):\n",
    "        super().__init__()\n",
    "        self.embedding = nn.Embedding(vocab_size, embedding_dim, padding_idx=0)\n",
    "        self.conv = nn.Conv1d(embedding_dim, linear_dim, kernel_size=kernel_size)\n",
    "        self.relu = nn.ReLU()\n",
    "        self.linear = nn.Linear(linear_dim, num_classes)\n",
    "        \n",
    "    def forward(self, x):        \n",
    "        output = self.embedding(x)\n",
    "        #                       B  F  L         \n",
    "        output = output.permute(0, 2, 1)\n",
    "        output = self.conv(output)\n",
    "        output = self.relu(output)\n",
    "        output = torch.max(output, axis=2).values\n",
    "        output = self.linear(output)\n",
    "        \n",
    "        return output\n",
    "    "
   ]
  },
  {
   "cell_type": "code",
   "execution_count": 83,
   "id": "19a1ef74",
   "metadata": {},
   "outputs": [
    {
     "name": "stdout",
     "output_type": "stream",
     "text": [
      "========================================================\n",
      "Число обучаемых параметров 5\n",
      " Оптимизатор:  Adam (\n",
      "Parameter Group 0\n",
      "    amsgrad: False\n",
      "    betas: (0.9, 0.999)\n",
      "    eps: 1e-08\n",
      "    lr: 0.01\n",
      "    weight_decay: 0\n",
      ")\n",
      " До обучения\n",
      "    Валидационный набор: кросс-энтропия: 3.32, доля совпадений: 5.3%\n",
      "--------- Эпоха  0 / 10  ------------------\n"
     ]
    },
    {
     "data": {
      "application/vnd.jupyter.widget-view+json": {
       "model_id": "dab8851353064b018857027af11f9181",
       "version_major": 2,
       "version_minor": 0
      },
      "text/plain": [
       "  0%|          | 0/35 [00:00<?, ?it/s]"
      ]
     },
     "metadata": {},
     "output_type": "display_data"
    },
    {
     "name": "stdout",
     "output_type": "stream",
     "text": [
      "Выучено батчей :    35; loss: 2.538\n",
      "--------- Эпоха  1 / 10  ------------------\n"
     ]
    },
    {
     "data": {
      "application/vnd.jupyter.widget-view+json": {
       "model_id": "0c28c58b99504c1e97c97404ab312d77",
       "version_major": 2,
       "version_minor": 0
      },
      "text/plain": [
       "  0%|          | 0/35 [00:00<?, ?it/s]"
      ]
     },
     "metadata": {},
     "output_type": "display_data"
    },
    {
     "name": "stdout",
     "output_type": "stream",
     "text": [
      "Выучено батчей :    35; loss: 0.505\n",
      "--------- Эпоха  2 / 10  ------------------\n"
     ]
    },
    {
     "data": {
      "application/vnd.jupyter.widget-view+json": {
       "model_id": "1443509214ca46a6ab232f442cf5a7f8",
       "version_major": 2,
       "version_minor": 0
      },
      "text/plain": [
       "  0%|          | 0/35 [00:00<?, ?it/s]"
      ]
     },
     "metadata": {},
     "output_type": "display_data"
    },
    {
     "name": "stdout",
     "output_type": "stream",
     "text": [
      "Выучено батчей :    35; loss: 0.072\n",
      "--------- Эпоха  3 / 10  ------------------\n"
     ]
    },
    {
     "data": {
      "application/vnd.jupyter.widget-view+json": {
       "model_id": "a77c0e77cc7e42ed93f51efb98f039c7",
       "version_major": 2,
       "version_minor": 0
      },
      "text/plain": [
       "  0%|          | 0/35 [00:00<?, ?it/s]"
      ]
     },
     "metadata": {},
     "output_type": "display_data"
    },
    {
     "name": "stdout",
     "output_type": "stream",
     "text": [
      "Выучено батчей :    35; loss: 0.022\n",
      "--------- Эпоха  4 / 10  ------------------\n"
     ]
    },
    {
     "data": {
      "application/vnd.jupyter.widget-view+json": {
       "model_id": "d2ccaae0836f41d186107c250c56b0be",
       "version_major": 2,
       "version_minor": 0
      },
      "text/plain": [
       "  0%|          | 0/35 [00:00<?, ?it/s]"
      ]
     },
     "metadata": {},
     "output_type": "display_data"
    },
    {
     "name": "stdout",
     "output_type": "stream",
     "text": [
      "Выучено батчей :    35; loss: 0.016\n",
      "--------- Эпоха  5 / 10  ------------------\n"
     ]
    },
    {
     "data": {
      "application/vnd.jupyter.widget-view+json": {
       "model_id": "6727c09f86f141b6aac9196a741e58c3",
       "version_major": 2,
       "version_minor": 0
      },
      "text/plain": [
       "  0%|          | 0/35 [00:00<?, ?it/s]"
      ]
     },
     "metadata": {},
     "output_type": "display_data"
    },
    {
     "name": "stdout",
     "output_type": "stream",
     "text": [
      "Выучено батчей :    35; loss: 0.014\n",
      "--------- Эпоха  6 / 10  ------------------\n"
     ]
    },
    {
     "data": {
      "application/vnd.jupyter.widget-view+json": {
       "model_id": "57b1b65853a94296b414b8c1603d7da5",
       "version_major": 2,
       "version_minor": 0
      },
      "text/plain": [
       "  0%|          | 0/35 [00:00<?, ?it/s]"
      ]
     },
     "metadata": {},
     "output_type": "display_data"
    },
    {
     "name": "stdout",
     "output_type": "stream",
     "text": [
      "Выучено батчей :    35; loss: 0.013\n",
      "--------- Эпоха  7 / 10  ------------------\n"
     ]
    },
    {
     "data": {
      "application/vnd.jupyter.widget-view+json": {
       "model_id": "24a5da1ff7524ef0a601a20d1bd4c911",
       "version_major": 2,
       "version_minor": 0
      },
      "text/plain": [
       "  0%|          | 0/35 [00:00<?, ?it/s]"
      ]
     },
     "metadata": {},
     "output_type": "display_data"
    },
    {
     "name": "stdout",
     "output_type": "stream",
     "text": [
      "Выучено батчей :    35; loss: 0.013\n",
      "--------- Эпоха  8 / 10  ------------------\n"
     ]
    },
    {
     "data": {
      "application/vnd.jupyter.widget-view+json": {
       "model_id": "ce40113b3a3c4920a4008f0d2a07f0fd",
       "version_major": 2,
       "version_minor": 0
      },
      "text/plain": [
       "  0%|          | 0/35 [00:00<?, ?it/s]"
      ]
     },
     "metadata": {},
     "output_type": "display_data"
    },
    {
     "name": "stdout",
     "output_type": "stream",
     "text": [
      "Выучено батчей :    35; loss: 0.012\n",
      "--------- Эпоха  9 / 10  ------------------\n"
     ]
    },
    {
     "data": {
      "application/vnd.jupyter.widget-view+json": {
       "model_id": "c86f4fc77ee0495ca59ae12635126f8f",
       "version_major": 2,
       "version_minor": 0
      },
      "text/plain": [
       "  0%|          | 0/35 [00:00<?, ?it/s]"
      ]
     },
     "metadata": {},
     "output_type": "display_data"
    },
    {
     "name": "stdout",
     "output_type": "stream",
     "text": [
      "Выучено батчей :    35; loss: 0.013\n",
      " Обучение закончено!\n",
      " После обучения\n",
      "    Валидационный набор: кросс-энтропия: 0.07, доля совпадений: 98.2%\n"
     ]
    }
   ],
   "source": [
    "net = Net(20, len(ds.words_i2w))\n",
    "train_and_test(net, ds_train, ds_val)"
   ]
  },
  {
   "cell_type": "code",
   "execution_count": 85,
   "id": "d3d90413",
   "metadata": {},
   "outputs": [],
   "source": [
    "results = [{ 'embedding_dim': 128, 'linear_dim': 256, 'kernel_size': 3, 'net': net, 'result': evaluate(net, ds_val) }] # сохраним обученный net, остальное в цикле ниже\n"
   ]
  },
  {
   "cell_type": "code",
   "execution_count": null,
   "id": "932faf61",
   "metadata": {},
   "outputs": [
    {
     "name": "stdout",
     "output_type": "stream",
     "text": [
      "########################################################################\n",
      "embedding_dim = 128, linear_dim = 256, kernel_size = 2\n",
      "========================================================\n",
      "Число обучаемых параметров 5\n",
      " Оптимизатор:  Adam (\n",
      "Parameter Group 0\n",
      "    amsgrad: False\n",
      "    betas: (0.9, 0.999)\n",
      "    eps: 1e-08\n",
      "    lr: 0.01\n",
      "    weight_decay: 0\n",
      ")\n",
      " До обучения\n",
      "    Валидационный набор: кросс-энтропия: 3.33, доля совпадений: 4.7%\n",
      "--------- Эпоха  0 / 10  ------------------\n"
     ]
    },
    {
     "data": {
      "application/vnd.jupyter.widget-view+json": {
       "model_id": "1f08a58d6dc44d50a2f1a807fc151e0a",
       "version_major": 2,
       "version_minor": 0
      },
      "text/plain": [
       "  0%|          | 0/35 [00:00<?, ?it/s]"
      ]
     },
     "metadata": {},
     "output_type": "display_data"
    },
    {
     "name": "stdout",
     "output_type": "stream",
     "text": [
      "Выучено батчей :    35; loss: 2.455\n",
      "--------- Эпоха  1 / 10  ------------------\n"
     ]
    },
    {
     "data": {
      "application/vnd.jupyter.widget-view+json": {
       "model_id": "fc96557f117945e2b8ea80a610945d5e",
       "version_major": 2,
       "version_minor": 0
      },
      "text/plain": [
       "  0%|          | 0/35 [00:00<?, ?it/s]"
      ]
     },
     "metadata": {},
     "output_type": "display_data"
    },
    {
     "name": "stdout",
     "output_type": "stream",
     "text": [
      "Выучено батчей :    35; loss: 0.573\n",
      "--------- Эпоха  2 / 10  ------------------\n"
     ]
    },
    {
     "data": {
      "application/vnd.jupyter.widget-view+json": {
       "model_id": "6153ef80b8934ac9a466021c4e0adea6",
       "version_major": 2,
       "version_minor": 0
      },
      "text/plain": [
       "  0%|          | 0/35 [00:00<?, ?it/s]"
      ]
     },
     "metadata": {},
     "output_type": "display_data"
    },
    {
     "name": "stdout",
     "output_type": "stream",
     "text": [
      "Выучено батчей :    35; loss: 0.119\n",
      "--------- Эпоха  3 / 10  ------------------\n"
     ]
    },
    {
     "data": {
      "application/vnd.jupyter.widget-view+json": {
       "model_id": "f7ef0f37a9e74e40bc11664469b74dcf",
       "version_major": 2,
       "version_minor": 0
      },
      "text/plain": [
       "  0%|          | 0/35 [00:00<?, ?it/s]"
      ]
     },
     "metadata": {},
     "output_type": "display_data"
    },
    {
     "name": "stdout",
     "output_type": "stream",
     "text": [
      "Выучено батчей :    35; loss: 0.029\n",
      "--------- Эпоха  4 / 10  ------------------\n"
     ]
    },
    {
     "data": {
      "application/vnd.jupyter.widget-view+json": {
       "model_id": "4d2fecda7d6d4aacb7f3bf16d367b487",
       "version_major": 2,
       "version_minor": 0
      },
      "text/plain": [
       "  0%|          | 0/35 [00:00<?, ?it/s]"
      ]
     },
     "metadata": {},
     "output_type": "display_data"
    },
    {
     "name": "stdout",
     "output_type": "stream",
     "text": [
      "Выучено батчей :    35; loss: 0.015\n",
      "--------- Эпоха  5 / 10  ------------------\n"
     ]
    },
    {
     "data": {
      "application/vnd.jupyter.widget-view+json": {
       "model_id": "52ca8a0f0d63402ba7d5a322e8d1d5e9",
       "version_major": 2,
       "version_minor": 0
      },
      "text/plain": [
       "  0%|          | 0/35 [00:00<?, ?it/s]"
      ]
     },
     "metadata": {},
     "output_type": "display_data"
    },
    {
     "name": "stdout",
     "output_type": "stream",
     "text": [
      "Выучено батчей :    35; loss: 0.012\n",
      "--------- Эпоха  6 / 10  ------------------\n"
     ]
    },
    {
     "data": {
      "application/vnd.jupyter.widget-view+json": {
       "model_id": "99182285051e4401b586149f4bb43bad",
       "version_major": 2,
       "version_minor": 0
      },
      "text/plain": [
       "  0%|          | 0/35 [00:00<?, ?it/s]"
      ]
     },
     "metadata": {},
     "output_type": "display_data"
    },
    {
     "name": "stdout",
     "output_type": "stream",
     "text": [
      "Выучено батчей :    35; loss: 0.011\n",
      "--------- Эпоха  7 / 10  ------------------\n"
     ]
    },
    {
     "data": {
      "application/vnd.jupyter.widget-view+json": {
       "model_id": "b211805dbc004b438f37bcf00a65a4e1",
       "version_major": 2,
       "version_minor": 0
      },
      "text/plain": [
       "  0%|          | 0/35 [00:00<?, ?it/s]"
      ]
     },
     "metadata": {},
     "output_type": "display_data"
    },
    {
     "name": "stdout",
     "output_type": "stream",
     "text": [
      "Выучено батчей :    35; loss: 0.011\n",
      "--------- Эпоха  8 / 10  ------------------\n"
     ]
    },
    {
     "data": {
      "application/vnd.jupyter.widget-view+json": {
       "model_id": "5f1b7cdedb9c48068edc300336d5db64",
       "version_major": 2,
       "version_minor": 0
      },
      "text/plain": [
       "  0%|          | 0/35 [00:00<?, ?it/s]"
      ]
     },
     "metadata": {},
     "output_type": "display_data"
    },
    {
     "name": "stdout",
     "output_type": "stream",
     "text": [
      "Выучено батчей :    35; loss: 0.011\n",
      "--------- Эпоха  9 / 10  ------------------\n"
     ]
    },
    {
     "data": {
      "application/vnd.jupyter.widget-view+json": {
       "model_id": "f666289311374a3393a59f89abaa27b2",
       "version_major": 2,
       "version_minor": 0
      },
      "text/plain": [
       "  0%|          | 0/35 [00:00<?, ?it/s]"
      ]
     },
     "metadata": {},
     "output_type": "display_data"
    },
    {
     "name": "stdout",
     "output_type": "stream",
     "text": [
      "Выучено батчей :    35; loss: 0.010\n",
      " Обучение закончено!\n",
      " После обучения\n",
      "    Валидационный набор: кросс-энтропия: 0.08, доля совпадений: 98.3%\n",
      "########################################################################\n",
      "embedding_dim = 128, linear_dim = 256, kernel_size = 5\n",
      "========================================================\n",
      "Число обучаемых параметров 5\n",
      " Оптимизатор:  Adam (\n",
      "Parameter Group 0\n",
      "    amsgrad: False\n",
      "    betas: (0.9, 0.999)\n",
      "    eps: 1e-08\n",
      "    lr: 0.01\n",
      "    weight_decay: 0\n",
      ")\n",
      " До обучения\n",
      "    Валидационный набор: кросс-энтропия: 3.16, доля совпадений: 5.3%\n",
      "--------- Эпоха  0 / 10  ------------------\n"
     ]
    },
    {
     "data": {
      "application/vnd.jupyter.widget-view+json": {
       "model_id": "a5e59c2d8a2349d38e342108e9644977",
       "version_major": 2,
       "version_minor": 0
      },
      "text/plain": [
       "  0%|          | 0/35 [00:00<?, ?it/s]"
      ]
     },
     "metadata": {},
     "output_type": "display_data"
    },
    {
     "name": "stdout",
     "output_type": "stream",
     "text": [
      "Выучено батчей :    35; loss: 2.237\n",
      "--------- Эпоха  1 / 10  ------------------\n"
     ]
    },
    {
     "data": {
      "application/vnd.jupyter.widget-view+json": {
       "model_id": "d1a99bff0e544182ac3f3c1c2ca1862c",
       "version_major": 2,
       "version_minor": 0
      },
      "text/plain": [
       "  0%|          | 0/35 [00:00<?, ?it/s]"
      ]
     },
     "metadata": {},
     "output_type": "display_data"
    },
    {
     "name": "stdout",
     "output_type": "stream",
     "text": [
      "Выучено батчей :    35; loss: 0.486\n",
      "--------- Эпоха  2 / 10  ------------------\n"
     ]
    },
    {
     "data": {
      "application/vnd.jupyter.widget-view+json": {
       "model_id": "40a09234d01b48f4880c125dfaf40686",
       "version_major": 2,
       "version_minor": 0
      },
      "text/plain": [
       "  0%|          | 0/35 [00:00<?, ?it/s]"
      ]
     },
     "metadata": {},
     "output_type": "display_data"
    },
    {
     "name": "stdout",
     "output_type": "stream",
     "text": [
      "Выучено батчей :    35; loss: 0.088\n",
      "--------- Эпоха  3 / 10  ------------------\n"
     ]
    },
    {
     "data": {
      "application/vnd.jupyter.widget-view+json": {
       "model_id": "7a8725fac7714d64a7123456e7bd115a",
       "version_major": 2,
       "version_minor": 0
      },
      "text/plain": [
       "  0%|          | 0/35 [00:00<?, ?it/s]"
      ]
     },
     "metadata": {},
     "output_type": "display_data"
    },
    {
     "name": "stdout",
     "output_type": "stream",
     "text": [
      "Выучено батчей :    35; loss: 0.023\n",
      "--------- Эпоха  4 / 10  ------------------\n"
     ]
    },
    {
     "data": {
      "application/vnd.jupyter.widget-view+json": {
       "model_id": "448ea1d26a66447da1373fdcaf0dee2e",
       "version_major": 2,
       "version_minor": 0
      },
      "text/plain": [
       "  0%|          | 0/35 [00:00<?, ?it/s]"
      ]
     },
     "metadata": {},
     "output_type": "display_data"
    },
    {
     "name": "stdout",
     "output_type": "stream",
     "text": [
      "Выучено батчей :    35; loss: 0.015\n",
      "--------- Эпоха  5 / 10  ------------------\n"
     ]
    },
    {
     "data": {
      "application/vnd.jupyter.widget-view+json": {
       "model_id": "52a02413f69e499db02b2c6f5f17f715",
       "version_major": 2,
       "version_minor": 0
      },
      "text/plain": [
       "  0%|          | 0/35 [00:00<?, ?it/s]"
      ]
     },
     "metadata": {},
     "output_type": "display_data"
    },
    {
     "name": "stdout",
     "output_type": "stream",
     "text": [
      "Выучено батчей :    35; loss: 0.013\n",
      "--------- Эпоха  6 / 10  ------------------\n"
     ]
    },
    {
     "data": {
      "application/vnd.jupyter.widget-view+json": {
       "model_id": "135b379239354443aa1e9d0e8202498f",
       "version_major": 2,
       "version_minor": 0
      },
      "text/plain": [
       "  0%|          | 0/35 [00:00<?, ?it/s]"
      ]
     },
     "metadata": {},
     "output_type": "display_data"
    },
    {
     "name": "stdout",
     "output_type": "stream",
     "text": [
      "Выучено батчей :    35; loss: 0.012\n",
      "--------- Эпоха  7 / 10  ------------------\n"
     ]
    },
    {
     "data": {
      "application/vnd.jupyter.widget-view+json": {
       "model_id": "530f284f402b4d6cb3e0e560273f254f",
       "version_major": 2,
       "version_minor": 0
      },
      "text/plain": [
       "  0%|          | 0/35 [00:00<?, ?it/s]"
      ]
     },
     "metadata": {},
     "output_type": "display_data"
    },
    {
     "name": "stdout",
     "output_type": "stream",
     "text": [
      "Выучено батчей :    35; loss: 0.012\n",
      "--------- Эпоха  8 / 10  ------------------\n"
     ]
    },
    {
     "data": {
      "application/vnd.jupyter.widget-view+json": {
       "model_id": "83cbbbee3cfb4d20be31e9838e0772af",
       "version_major": 2,
       "version_minor": 0
      },
      "text/plain": [
       "  0%|          | 0/35 [00:00<?, ?it/s]"
      ]
     },
     "metadata": {},
     "output_type": "display_data"
    },
    {
     "name": "stdout",
     "output_type": "stream",
     "text": [
      "Выучено батчей :    35; loss: 0.011\n",
      "--------- Эпоха  9 / 10  ------------------\n"
     ]
    },
    {
     "data": {
      "application/vnd.jupyter.widget-view+json": {
       "model_id": "b5ac297927ac48b18dd7ed6d90ebff8e",
       "version_major": 2,
       "version_minor": 0
      },
      "text/plain": [
       "  0%|          | 0/35 [00:00<?, ?it/s]"
      ]
     },
     "metadata": {},
     "output_type": "display_data"
    },
    {
     "name": "stdout",
     "output_type": "stream",
     "text": [
      "Выучено батчей :    35; loss: 0.011\n",
      " Обучение закончено!\n",
      " После обучения\n",
      "    Валидационный набор: кросс-энтропия: 0.07, доля совпадений: 98.3%\n",
      "########################################################################\n",
      "embedding_dim = 128, linear_dim = 256, kernel_size = 7\n",
      "========================================================\n",
      "Число обучаемых параметров 5\n",
      " Оптимизатор:  Adam (\n",
      "Parameter Group 0\n",
      "    amsgrad: False\n",
      "    betas: (0.9, 0.999)\n",
      "    eps: 1e-08\n",
      "    lr: 0.01\n",
      "    weight_decay: 0\n",
      ")\n",
      " До обучения\n",
      "    Валидационный набор: кросс-энтропия: 3.66, доля совпадений: 5.2%\n",
      "--------- Эпоха  0 / 10  ------------------\n"
     ]
    },
    {
     "data": {
      "application/vnd.jupyter.widget-view+json": {
       "model_id": "4f9ad5d416a1456db96931294efc9c51",
       "version_major": 2,
       "version_minor": 0
      },
      "text/plain": [
       "  0%|          | 0/35 [00:00<?, ?it/s]"
      ]
     },
     "metadata": {},
     "output_type": "display_data"
    },
    {
     "name": "stdout",
     "output_type": "stream",
     "text": [
      "Выучено батчей :    35; loss: 2.525\n",
      "--------- Эпоха  1 / 10  ------------------\n"
     ]
    },
    {
     "data": {
      "application/vnd.jupyter.widget-view+json": {
       "model_id": "0fb856cf320c46e28710111c943ee91a",
       "version_major": 2,
       "version_minor": 0
      },
      "text/plain": [
       "  0%|          | 0/35 [00:00<?, ?it/s]"
      ]
     },
     "metadata": {},
     "output_type": "display_data"
    },
    {
     "name": "stdout",
     "output_type": "stream",
     "text": [
      "Выучено батчей :    35; loss: 0.588\n",
      "--------- Эпоха  2 / 10  ------------------\n"
     ]
    },
    {
     "data": {
      "application/vnd.jupyter.widget-view+json": {
       "model_id": "16eadb9c85cc472e9c62364dbfd2253d",
       "version_major": 2,
       "version_minor": 0
      },
      "text/plain": [
       "  0%|          | 0/35 [00:00<?, ?it/s]"
      ]
     },
     "metadata": {},
     "output_type": "display_data"
    },
    {
     "name": "stdout",
     "output_type": "stream",
     "text": [
      "Выучено батчей :    35; loss: 0.111\n",
      "--------- Эпоха  3 / 10  ------------------\n"
     ]
    },
    {
     "data": {
      "application/vnd.jupyter.widget-view+json": {
       "model_id": "f5abe535505046909e7f05b196d82786",
       "version_major": 2,
       "version_minor": 0
      },
      "text/plain": [
       "  0%|          | 0/35 [00:00<?, ?it/s]"
      ]
     },
     "metadata": {},
     "output_type": "display_data"
    },
    {
     "name": "stdout",
     "output_type": "stream",
     "text": [
      "Выучено батчей :    35; loss: 0.026\n",
      "--------- Эпоха  4 / 10  ------------------\n"
     ]
    },
    {
     "data": {
      "application/vnd.jupyter.widget-view+json": {
       "model_id": "59ca035a7a394a85b024d74ccdab12da",
       "version_major": 2,
       "version_minor": 0
      },
      "text/plain": [
       "  0%|          | 0/35 [00:00<?, ?it/s]"
      ]
     },
     "metadata": {},
     "output_type": "display_data"
    },
    {
     "name": "stdout",
     "output_type": "stream",
     "text": [
      "Выучено батчей :    35; loss: 0.014\n",
      "--------- Эпоха  5 / 10  ------------------\n"
     ]
    },
    {
     "data": {
      "application/vnd.jupyter.widget-view+json": {
       "model_id": "94ab39b64f31487f95415732105d7c0d",
       "version_major": 2,
       "version_minor": 0
      },
      "text/plain": [
       "  0%|          | 0/35 [00:00<?, ?it/s]"
      ]
     },
     "metadata": {},
     "output_type": "display_data"
    },
    {
     "name": "stdout",
     "output_type": "stream",
     "text": [
      "Выучено батчей :    35; loss: 0.012\n",
      "--------- Эпоха  6 / 10  ------------------\n"
     ]
    },
    {
     "data": {
      "application/vnd.jupyter.widget-view+json": {
       "model_id": "49d0aafc7f474c1ea1ac38d7bbb00d08",
       "version_major": 2,
       "version_minor": 0
      },
      "text/plain": [
       "  0%|          | 0/35 [00:00<?, ?it/s]"
      ]
     },
     "metadata": {},
     "output_type": "display_data"
    },
    {
     "name": "stdout",
     "output_type": "stream",
     "text": [
      "Выучено батчей :    35; loss: 0.012\n",
      "--------- Эпоха  7 / 10  ------------------\n"
     ]
    },
    {
     "data": {
      "application/vnd.jupyter.widget-view+json": {
       "model_id": "6f2d2724286c427c8f51bbca51987858",
       "version_major": 2,
       "version_minor": 0
      },
      "text/plain": [
       "  0%|          | 0/35 [00:00<?, ?it/s]"
      ]
     },
     "metadata": {},
     "output_type": "display_data"
    },
    {
     "name": "stdout",
     "output_type": "stream",
     "text": [
      "Выучено батчей :    35; loss: 0.011\n",
      "--------- Эпоха  8 / 10  ------------------\n"
     ]
    },
    {
     "data": {
      "application/vnd.jupyter.widget-view+json": {
       "model_id": "0ddf3be32f7b451c86c5ed08c5eee294",
       "version_major": 2,
       "version_minor": 0
      },
      "text/plain": [
       "  0%|          | 0/35 [00:00<?, ?it/s]"
      ]
     },
     "metadata": {},
     "output_type": "display_data"
    }
   ],
   "source": [
    "def create_and_test(embedding_dim=128, linear_dim=256, kernel_size=3):\n",
    "    print('########################################################################')\n",
    "    print(f\"embedding_dim = {embedding_dim}, linear_dim = {linear_dim}, kernel_size = {kernel_size}\")\n",
    "    net = Net(20, len(ds.words_i2w), kernel_size=2)\n",
    "    r = train_and_test(net, ds_train, ds_val)\n",
    "    results.append({ 'embedding_dim': embedding_dim, 'linear_dim': linear_dim, 'kernel_size': kernel_size, 'net': net, 'result': r })    \n",
    "    \n",
    "    \n",
    "for kernel_size in [2, 5, 7]:\n",
    "    create_and_test(kernel_size=kernel_size)\n",
    "\n",
    "for linear_dim in [128, 256, 512]:\n",
    "    create_and_test(linear_dim=linear_dim)\n",
    "\n",
    "for embedding_dim in [ 64, 256 ]:\n",
    "    create_and_test(embedding_dim=embedding_dim)\n"
   ]
  },
  {
   "cell_type": "code",
   "execution_count": null,
   "id": "784d76da",
   "metadata": {},
   "outputs": [],
   "source": []
  }
 ],
 "metadata": {
  "kernelspec": {
   "display_name": "Python 3 (ipykernel)",
   "language": "python",
   "name": "python3"
  },
  "language_info": {
   "codemirror_mode": {
    "name": "ipython",
    "version": 3
   },
   "file_extension": ".py",
   "mimetype": "text/x-python",
   "name": "python",
   "nbconvert_exporter": "python",
   "pygments_lexer": "ipython3",
   "version": "3.7.12"
  }
 },
 "nbformat": 4,
 "nbformat_minor": 5
}
