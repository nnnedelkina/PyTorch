{
 "cells": [
  {
   "cell_type": "markdown",
   "id": "5f94d03a",
   "metadata": {},
   "source": [
    "# ДЗ 9\n",
    "\n",
    "Переписать загрузку данных с python функций на Dataset и Dataloader и применить сеть с attention\n",
    "\n",
    "# ИЗВИНИТЕ, Заглушка, успею сделать до конца недели 04/10\n"
   ]
  },
  {
   "cell_type": "code",
   "execution_count": null,
   "id": "41ca5574",
   "metadata": {},
   "outputs": [],
   "source": []
  }
 ],
 "metadata": {
  "kernelspec": {
   "display_name": "Python 3 (ipykernel)",
   "language": "python",
   "name": "python3"
  },
  "language_info": {
   "codemirror_mode": {
    "name": "ipython",
    "version": 3
   },
   "file_extension": ".py",
   "mimetype": "text/x-python",
   "name": "python",
   "nbconvert_exporter": "python",
   "pygments_lexer": "ipython3",
   "version": "3.7.12"
  }
 },
 "nbformat": 4,
 "nbformat_minor": 5
}
