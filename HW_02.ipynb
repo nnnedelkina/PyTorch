{
 "cells": [
  {
   "cell_type": "markdown",
   "metadata": {},
   "source": [
    "# Feed-forward сети\n",
    "\n",
    "Итак, давайте потренируемся тренировать нейронные сети прямого распространения (так как делали на паре)\n",
    "При этом попробуем создать свою функцию активации на одном из слоев"
   ]
  },
  {
   "cell_type": "code",
   "execution_count": 1,
   "metadata": {},
   "outputs": [],
   "source": [
    "# Сделаем необходимые импорты\n",
    "import torch\n",
    "import numpy as np\n",
    "\n",
    "from torch import nn\n",
    "import torchvision\n",
    "from torch import optim\n",
    "import torchvision.transforms as transforms\n",
    "import matplotlib.pyplot as plt"
   ]
  },
  {
   "cell_type": "code",
   "execution_count": 2,
   "metadata": {},
   "outputs": [],
   "source": [
    "# https://github.com/matplotlib/matplotlib/issues/21513\n",
    "import os\n",
    "os.environ[\"KMP_DUPLICATE_LIB_OK\"]=\"TRUE\""
   ]
  },
  {
   "cell_type": "code",
   "execution_count": 3,
   "metadata": {},
   "outputs": [
    {
     "name": "stdout",
     "output_type": "stream",
     "text": [
      "Files already downloaded and verified\n",
      "Files already downloaded and verified\n",
      "torch.Size([3, 32, 32])\n",
      "19\n"
     ]
    }
   ],
   "source": [
    "# Загрузим датасет CIFAR-100, сразу же создадим dataloader для него\n",
    "# Если вам не хватает вычислительных ресурсов, то можно вернуться к CIFAR-10\n",
    "train_dataset = torchvision.datasets.CIFAR100(root='data/',\n",
    "                                             train=True,  \n",
    "                                             transform=transforms.ToTensor(), \n",
    "                                             download=True)\n",
    "train_loader = torch.utils.data.DataLoader(dataset=train_dataset,\n",
    "                                           batch_size=64, \n",
    "                                           shuffle=True)\n",
    "test_dataset = torchvision.datasets.CIFAR100(root='./data',\n",
    "                                             train=False,\n",
    "                                             transform=transforms.ToTensor(),\n",
    "                                             download=True)\n",
    "test_loader = torch.utils.data.DataLoader(test_dataset, \n",
    "                                          batch_size=1,\n",
    "                                          shuffle=False)\n",
    "\n",
    "\n",
    "image, label = train_dataset[0]\n",
    "print (image.size())\n",
    "print (label)"
   ]
  },
  {
   "cell_type": "code",
   "execution_count": 4,
   "metadata": {},
   "outputs": [
    {
     "data": {
      "text/plain": [
       "<matplotlib.image.AxesImage at 0x177462d6a48>"
      ]
     },
     "execution_count": 4,
     "metadata": {},
     "output_type": "execute_result"
    },
    {
     "data": {
      "image/png": "[encoded data removed]",
      "text/plain": [
       "<Figure size 432x288 with 1 Axes>"
      ]
     },
     "metadata": {
      "needs_background": "light"
     },
     "output_type": "display_data"
    }
   ],
   "source": [
    "plt.imshow(image.permute(1, 2, 0).numpy())"
   ]
  },
  {
   "cell_type": "code",
   "execution_count": 18,
   "metadata": {},
   "outputs": [
    {
     "name": "stdout",
     "output_type": "stream",
     "text": [
      "Net(\n",
      "  (fc1): Linear(in_features=3072, out_features=2000, bias=True)\n",
      "  (fc2): Linear(in_features=2000, out_features=1000, bias=True)\n",
      "  (fc3): Linear(in_features=1000, out_features=500, bias=True)\n",
      "  (fc4): Linear(in_features=500, out_features=100, bias=True)\n",
      ")\n",
      "True\n"
     ]
    }
   ],
   "source": [
    "# Создайте собственную архитектуру! Можете использовать все, что угодно, но в ограничении на использование линейные слои (пока без сверток)\n",
    "# Давайте добавим ограниченный Leaky_relu, то есть output = max(0.1x, 0.5x)\n",
    "# Ваша задача добавить его в архитектуру сети как функцию активации\n",
    "import torch.nn.functional as F\n",
    "\n",
    "def leaky_relu(x, nk=0.05, pk=1.0):\n",
    "    return torch.maximum(nk * x, pk * x)\n",
    "#    return F.leaky_relu(x, nk / pk) * pk\n",
    "\n",
    "\n",
    "class Net(nn.Module):\n",
    "    def __init__(self, input_dim, hidden_dim, output_dim, lrnk=0.05, lrpk=1.0):\n",
    "        super().__init__()\n",
    "        self.lrnk = lrnk\n",
    "        self.lrpk = lrpk\n",
    "        self.fc1 = nn.Linear(input_dim, 4 * hidden_dim)\n",
    "        self.fc2 = nn.Linear(4 * hidden_dim, 2 * hidden_dim)\n",
    "        self.fc3 = nn.Linear(2 * hidden_dim, hidden_dim)\n",
    "        self.fc4 = nn.Linear(hidden_dim, output_dim)\n",
    "\n",
    "    def forward(self, x):\n",
    "        x = x.view(x.shape[0], -1)\n",
    "        x = self.fc1(x)\n",
    "        x = leaky_relu(x, self.lrnk, self.lrpk)\n",
    "        x = self.fc2(x)\n",
    "        x = leaky_relu(x, self.lrnk, self.lrpk)\n",
    "        x = self.fc3(x)\n",
    "        x = leaky_relu(x, self.lrnk, self.lrpk)\n",
    "        x = self.fc4(x)\n",
    "        if not self.training:\n",
    "            x = F.softmax(x)\n",
    "        return x\n",
    "    \n",
    "#    def predict(self, x):\n",
    "#        x = self.forward(x)\n",
    "#        x = F.softmax(x)\n",
    "#        return x\n",
    "    \n",
    "size = np.prod(image.size())\n",
    "#net = Net(size, 500, 100, 0.1, 0.5) # с leaky_relu = max(0.1x, 0.5x) модель практически не обучалась\n",
    "net = Net(size, 500, 100) # тренируем с max(0.05x, x)\n",
    "\n",
    "print(net)\n",
    "print(net.training)\n"
   ]
  },
  {
   "cell_type": "code",
   "execution_count": 19,
   "metadata": {},
   "outputs": [
    {
     "name": "stdout",
     "output_type": "stream",
     "text": [
      "True\n"
     ]
    },
    {
     "name": "stderr",
     "output_type": "stream",
     "text": [
      "\r",
      "  0%|                                                                                           | 0/10 [00:00<?, ?it/s]"
     ]
    },
    {
     "name": "stdout",
     "output_type": "stream",
     "text": [
      "[0,   100] loss: 4.599\n",
      "[0,   200] loss: 4.562\n",
      "[0,   300] loss: 4.368\n",
      "[0,   400] loss: 4.233\n",
      "[0,   500] loss: 4.140\n",
      "[0,   600] loss: 4.076\n",
      "[0,   700] loss: 4.041\n"
     ]
    },
    {
     "name": "stderr",
     "output_type": "stream",
     "text": [
      "\r",
      " 10%|████████▎                                                                          | 1/10 [00:44<06:41, 44.60s/it]"
     ]
    },
    {
     "name": "stdout",
     "output_type": "stream",
     "text": [
      "[1,   100] loss: 3.905\n",
      "[1,   200] loss: 3.893\n",
      "[1,   300] loss: 3.804\n",
      "[1,   400] loss: 3.813\n",
      "[1,   500] loss: 3.782\n",
      "[1,   600] loss: 3.752\n",
      "[1,   700] loss: 3.708\n"
     ]
    },
    {
     "name": "stderr",
     "output_type": "stream",
     "text": [
      "\r",
      " 20%|████████████████▌                                                                  | 2/10 [01:29<05:56, 44.59s/it]"
     ]
    },
    {
     "name": "stdout",
     "output_type": "stream",
     "text": [
      "[2,   100] loss: 3.656\n",
      "[2,   200] loss: 3.650\n",
      "[2,   300] loss: 3.572\n",
      "[2,   400] loss: 3.631\n",
      "[2,   500] loss: 3.600\n",
      "[2,   600] loss: 3.550\n",
      "[2,   700] loss: 3.553\n"
     ]
    },
    {
     "name": "stderr",
     "output_type": "stream",
     "text": [
      "\r",
      " 30%|████████████████████████▉                                                          | 3/10 [02:13<05:12, 44.62s/it]"
     ]
    },
    {
     "name": "stdout",
     "output_type": "stream",
     "text": [
      "[3,   100] loss: 3.486\n",
      "[3,   200] loss: 3.471\n",
      "[3,   300] loss: 3.456\n",
      "[3,   400] loss: 3.426\n",
      "[3,   500] loss: 3.463\n",
      "[3,   600] loss: 3.462\n",
      "[3,   700] loss: 3.442\n"
     ]
    },
    {
     "name": "stderr",
     "output_type": "stream",
     "text": [
      "\r",
      " 40%|█████████████████████████████████▏                                                 | 4/10 [02:58<04:28, 44.69s/it]"
     ]
    },
    {
     "name": "stdout",
     "output_type": "stream",
     "text": [
      "[4,   100] loss: 3.345\n",
      "[4,   200] loss: 3.363\n",
      "[4,   300] loss: 3.375\n",
      "[4,   400] loss: 3.329\n",
      "[4,   500] loss: 3.340\n",
      "[4,   600] loss: 3.353\n",
      "[4,   700] loss: 3.352\n"
     ]
    },
    {
     "name": "stderr",
     "output_type": "stream",
     "text": [
      "\r",
      " 50%|█████████████████████████████████████████▌                                         | 5/10 [03:42<03:42, 44.57s/it]"
     ]
    },
    {
     "name": "stdout",
     "output_type": "stream",
     "text": [
      "[5,   100] loss: 3.261\n",
      "[5,   200] loss: 3.250\n",
      "[5,   300] loss: 3.285\n",
      "[5,   400] loss: 3.274\n",
      "[5,   500] loss: 3.234\n",
      "[5,   600] loss: 3.230\n",
      "[5,   700] loss: 3.233\n"
     ]
    },
    {
     "name": "stderr",
     "output_type": "stream",
     "text": [
      "\r",
      " 60%|█████████████████████████████████████████████████▊                                 | 6/10 [04:27<02:58, 44.53s/it]"
     ]
    },
    {
     "name": "stdout",
     "output_type": "stream",
     "text": [
      "[6,   100] loss: 3.170\n",
      "[6,   200] loss: 3.203\n",
      "[6,   300] loss: 3.156\n",
      "[6,   400] loss: 3.181\n",
      "[6,   500] loss: 3.151\n",
      "[6,   600] loss: 3.164\n",
      "[6,   700] loss: 3.191\n"
     ]
    },
    {
     "name": "stderr",
     "output_type": "stream",
     "text": [
      "\r",
      " 70%|██████████████████████████████████████████████████████████                         | 7/10 [05:12<02:13, 44.57s/it]"
     ]
    },
    {
     "name": "stdout",
     "output_type": "stream",
     "text": [
      "[7,   100] loss: 3.056\n",
      "[7,   200] loss: 3.101\n",
      "[7,   300] loss: 3.106\n",
      "[7,   400] loss: 3.079\n",
      "[7,   500] loss: 3.074\n",
      "[7,   600] loss: 3.093\n",
      "[7,   700] loss: 3.090\n"
     ]
    },
    {
     "name": "stderr",
     "output_type": "stream",
     "text": [
      "\r",
      " 80%|██████████████████████████████████████████████████████████████████▍                | 8/10 [05:56<01:29, 44.58s/it]"
     ]
    },
    {
     "name": "stdout",
     "output_type": "stream",
     "text": [
      "[8,   100] loss: 3.048\n",
      "[8,   200] loss: 3.009\n",
      "[8,   300] loss: 3.029\n",
      "[8,   400] loss: 2.999\n",
      "[8,   500] loss: 2.995\n",
      "[8,   600] loss: 3.026\n",
      "[8,   700] loss: 3.056\n"
     ]
    },
    {
     "name": "stderr",
     "output_type": "stream",
     "text": [
      "\r",
      " 90%|██████████████████████████████████████████████████████████████████████████▋        | 9/10 [06:41<00:44, 44.54s/it]"
     ]
    },
    {
     "name": "stdout",
     "output_type": "stream",
     "text": [
      "[9,   100] loss: 2.936\n",
      "[9,   200] loss: 2.949\n",
      "[9,   300] loss: 2.939\n",
      "[9,   400] loss: 2.946\n",
      "[9,   500] loss: 2.983\n",
      "[9,   600] loss: 2.968\n",
      "[9,   700] loss: 2.944\n"
     ]
    },
    {
     "name": "stderr",
     "output_type": "stream",
     "text": [
      "100%|██████████████████████████████████████████████████████████████████████████████████| 10/10 [07:25<00:00, 44.57s/it]"
     ]
    },
    {
     "name": "stdout",
     "output_type": "stream",
     "text": [
      "Training is finished!\n"
     ]
    },
    {
     "name": "stderr",
     "output_type": "stream",
     "text": [
      "\n"
     ]
    }
   ],
   "source": [
    "# Запустить обучение (по аналогии с тем, что делали на паре)\n",
    "criterion = nn.CrossEntropyLoss()\n",
    "optimizer = optim.SGD(net.parameters(), lr=0.01, momentum=0.9)\n",
    "#optimizer = optim.Adam(net.parameters())\n",
    "\n",
    "\n",
    "from tqdm import tqdm\n",
    "\n",
    "report_on = 100\n",
    "print(net.training)\n",
    "\n",
    "for epoch in tqdm(range(10)):  \n",
    "    running_loss = 0.0\n",
    "    for i, data in enumerate(train_loader):\n",
    "        inputs, labels = data[0], data[1]\n",
    "\n",
    "        # обнуляем градиент\n",
    "        optimizer.zero_grad()\n",
    "\n",
    "        outputs = net(inputs)\n",
    "        loss = criterion(outputs, labels)\n",
    "        loss.backward()\n",
    "        optimizer.step()\n",
    "\n",
    "        # выводим статистику о процессе обучения\n",
    "        running_loss += loss.item()\n",
    "        if (i+1) % report_on == 0:    # печатаем каждые report_on mini-batches\n",
    "            print('[%d, %5d] loss: %.3f' %(epoch, i+1, running_loss/report_on))\n",
    "            running_loss = 0.0\n",
    "\n",
    "print('Training is finished!')"
   ]
  },
  {
   "cell_type": "code",
   "execution_count": 20,
   "metadata": {},
   "outputs": [
    {
     "name": "stderr",
     "output_type": "stream",
     "text": [
      "C:\\ProgramData\\Anaconda3\\lib\\site-packages\\ipykernel_launcher.py:31: UserWarning: Implicit dimension choice for softmax has been deprecated. Change the call to include dim=X as an argument.\n"
     ]
    }
   ],
   "source": [
    "net.eval()\n",
    "r = [ (int(true_label), int(torch.argmax(net(image)))) for (image, true_label) in test_loader ]"
   ]
  },
  {
   "cell_type": "code",
   "execution_count": 21,
   "metadata": {},
   "outputs": [
    {
     "name": "stdout",
     "output_type": "stream",
     "text": [
      "Точно определено: 23.57% классов\n"
     ]
    }
   ],
   "source": [
    "print(f'Точно определено: {sum([t == p for (t, p) in r])/len(test_loader)*100:.02f}% классов')"
   ]
  },
  {
   "cell_type": "code",
   "execution_count": null,
   "metadata": {},
   "outputs": [],
   "source": []
  }
 ],
 "metadata": {
  "kernelspec": {
   "display_name": "Python 3 (ipykernel)",
   "language": "python",
   "name": "python3"
  },
  "language_info": {
   "codemirror_mode": {
    "name": "ipython",
    "version": 3
   },
   "file_extension": ".py",
   "mimetype": "text/x-python",
   "name": "python",
   "nbconvert_exporter": "python",
   "pygments_lexer": "ipython3",
   "version": "3.7.12"
  }
 },
 "nbformat": 4,
 "nbformat_minor": 2
}
