{
 "cells": [
  {
   "cell_type": "markdown",
   "id": "f7120925",
   "metadata": {},
   "source": [
    "## ДЗ 8\n",
    "\n",
    "Как было сказано ранее, GAN обучается воспроизводить реальные данные.\n",
    "Поэтому Вам предлагается обучить генератор создавать точки, которые будут\n",
    "лежать на графике функции\n",
    "\n",
    "𝑦 = 𝑠𝑖𝑛(𝑥)/𝑥 − 𝑥/10\n",
    "\n",
    "При выполнении данного задания структура GAN остается той же, но Вам нужно:\n",
    "* Сгенерировать настоящие данные\n",
    "* Изменить архитектуру дискриминатора и генератора\n",
    "* Без графиков домашку не принимаю\n",
    "\n",
    "# Извините, заглушка, не успеваю, доделаю до конца выходных, постараюсь побыстрее"
   ]
  },
  {
   "cell_type": "code",
   "execution_count": null,
   "id": "db843454",
   "metadata": {},
   "outputs": [],
   "source": []
  }
 ],
 "metadata": {
  "kernelspec": {
   "display_name": "Python 3 (ipykernel)",
   "language": "python",
   "name": "python3"
  },
  "language_info": {
   "codemirror_mode": {
    "name": "ipython",
    "version": 3
   },
   "file_extension": ".py",
   "mimetype": "text/x-python",
   "name": "python",
   "nbconvert_exporter": "python",
   "pygments_lexer": "ipython3",
   "version": "3.7.12"
  }
 },
 "nbformat": 4,
 "nbformat_minor": 5
}
