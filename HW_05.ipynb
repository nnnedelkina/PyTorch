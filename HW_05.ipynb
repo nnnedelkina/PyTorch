{
 "cells": [
  {
   "cell_type": "markdown",
   "id": "6e28516d",
   "metadata": {},
   "source": [
    "# ДЗ 5\n",
    "\n",
    "* Необходимо скачать и подготовить датасет https://www.kaggle.com/olekslu/makeup-lips-segmentation-28k-samples/notebooks для обучения модели на сегментацию губ (обратите внимание, что сегментация подразумевает уже два класса: фон и губы).\n",
    "* И затем обучить Модель на выбор из segmentation_models_pytorch\n",
    "* (Усложненное задание) Переделайте архитектуру декодера Unet так, как в этой работе https://www.ics.uci.edu/~haoyum3/papers/slides_icivc.pdf. Эта тема пересекается с темой о второго вебинара о LSTM-сетях. И попробуйте обучить получившуюся нейронную сеть.\n",
    "\n",
    "## Извините, заглушка, планирую закончить до конца дня 25.02"
   ]
  },
  {
   "cell_type": "code",
   "execution_count": null,
   "id": "6b187670",
   "metadata": {},
   "outputs": [],
   "source": []
  }
 ],
 "metadata": {
  "kernelspec": {
   "display_name": "Python 3 (ipykernel)",
   "language": "python",
   "name": "python3"
  },
  "language_info": {
   "codemirror_mode": {
    "name": "ipython",
    "version": 3
   },
   "file_extension": ".py",
   "mimetype": "text/x-python",
   "name": "python",
   "nbconvert_exporter": "python",
   "pygments_lexer": "ipython3",
   "version": "3.7.12"
  }
 },
 "nbformat": 4,
 "nbformat_minor": 5
}
