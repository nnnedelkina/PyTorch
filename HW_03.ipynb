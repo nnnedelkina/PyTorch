{
 "cells": [
  {
   "cell_type": "markdown",
   "metadata": {},
   "source": [
    "# Попрактикуемся с тем, что изучили\n",
    "\n",
    "Будем практиковаться на датасете:\n",
    "https://www.kaggle.com/c/avito-demand-prediction\n",
    "\n",
    "Ваша задача:\n",
    "1. Создать Dataset для загрузки данных (используем только числовые данные)\n",
    "2. Обернуть его в Dataloader\n",
    "3. Написать архитектуру сети, которая предсказывает число показов на основании числовых данных (вы всегда можете нагенерить дополнительных факторов). Сеть должна включать BatchNorm слои и Dropout (или НЕ включать, но нужно обосновать)\n",
    "4. Учить будем на функцию потерь с кагла (log RMSE) - нужно её реализовать\n",
    "5. Сравните сходимость Adam, RMSProp и SGD, сделайте вывод по качеству работы модели\n",
    "\n",
    "train-test разделение нужно сделать с помощью sklearn random_state=13, test_size = 0.25\n",
    "\n",
    "Вопросы? в личку @Kinetikm"
   ]
  },
  {
   "cell_type": "code",
   "execution_count": 1,
   "metadata": {},
   "outputs": [],
   "source": [
    "import math\n",
    "import torch\n",
    "import numpy as np\n",
    "import pandas as pd\n",
    "from sklearn.model_selection import train_test_split \n"
   ]
  },
  {
   "cell_type": "code",
   "execution_count": 2,
   "metadata": {},
   "outputs": [],
   "source": [
    "class AvitoDataset(torch.utils.data.Dataset):\n",
    "    def __init__(self, file_name, target_col):\n",
    "        print('Загружаем ', file_name)\n",
    "        df = pd.read_csv(file_name)\n",
    "#        df = df[0:1024*10] # для ускорения отладки\n",
    "        print('Загружен ', file_name)\n",
    "        numeric_features = [ c for i, c in enumerate(df.columns) if pd.api.types.is_numeric_dtype(df.dtypes[i]) and c != target_col ]\n",
    "        self.features = df[numeric_features].fillna(0)\n",
    "        self.targets = df[target_col].fillna(0)\n",
    "        \n",
    "    def __len__(self):\n",
    "        return len(self.features)\n",
    "\n",
    "    def __getitem__(self, index):\n",
    "#        return np.array(self.features.iloc[index]).astype(float), np.array(self.targets.iloc[index]).astype(float)\n",
    "        return torch.tensor(self.features.iloc[index]).float(), torch.tensor(self.targets.iloc[index]).float()\n",
    "    \n"
   ]
  },
  {
   "cell_type": "code",
   "execution_count": 3,
   "metadata": {},
   "outputs": [
    {
     "name": "stdout",
     "output_type": "stream",
     "text": [
      "Загружаем  train.csv\n",
      "Загружен  train.csv\n",
      "1503424\n",
      "(tensor([ 400.,    2., 1008.]), tensor(0.1279))\n"
     ]
    }
   ],
   "source": [
    "ds = AvitoDataset('train.csv', 'deal_probability')\n",
    "print(len(ds))\n",
    "print(ds[0])"
   ]
  },
  {
   "cell_type": "code",
   "execution_count": 4,
   "metadata": {},
   "outputs": [
    {
     "name": "stdout",
     "output_type": "stream",
     "text": [
      "1127568 375856\n"
     ]
    }
   ],
   "source": [
    "from sklearn.model_selection import train_test_split\n",
    "ds_train, ds_test = train_test_split(ds, test_size=0.25, random_state=13)\n",
    "print(len(ds_train), len(ds_test))"
   ]
  },
  {
   "cell_type": "code",
   "execution_count": 5,
   "metadata": {},
   "outputs": [
    {
     "name": "stdout",
     "output_type": "stream",
     "text": [
      "(tensor([  0.,  16., 399.]), tensor(0.))\n"
     ]
    }
   ],
   "source": [
    "print(ds_train[1])"
   ]
  },
  {
   "cell_type": "code",
   "execution_count": 6,
   "metadata": {},
   "outputs": [
    {
     "name": "stdout",
     "output_type": "stream",
     "text": [
      "1102\n"
     ]
    }
   ],
   "source": [
    "dl_train = torch.utils.data.DataLoader(ds_train, batch_size=1024)\n",
    "print(len(dl_train))"
   ]
  },
  {
   "cell_type": "code",
   "execution_count": 7,
   "metadata": {},
   "outputs": [],
   "source": [
    "def log_rmse(p, t):\n",
    "    return torch.sqrt(torch.mean((torch.log(p + 1) - torch.log(t + 1)) ** 2))"
   ]
  },
  {
   "cell_type": "code",
   "execution_count": 8,
   "metadata": {},
   "outputs": [],
   "source": [
    "import torch.nn.functional as F\n",
    "import torch.nn as nn\n",
    "from tqdm import tqdm"
   ]
  },
  {
   "cell_type": "code",
   "execution_count": 9,
   "metadata": {},
   "outputs": [],
   "source": [
    "class FeedForward(nn.Module):\n",
    "    def __init__(self, input_dim, hidden_dim):\n",
    "        super(FeedForward, self).__init__()\n",
    "        self.bn1 = nn.BatchNorm1d(input_dim)\n",
    "        self.fc1 = nn.Linear(input_dim, hidden_dim)\n",
    "        self.dp = nn.Dropout(0.25)\n",
    "        self.fc2 = nn.Linear(hidden_dim, 1)\n",
    "        \n",
    "    def forward(self, x):\n",
    "        x = self.bn1(x)\n",
    "        x = self.fc1(x)\n",
    "        x = F.relu(x)\n",
    "        x = self.dp(x)\n",
    "        x = self.fc2(x)\n",
    "        x = F.sigmoid(x)\n",
    "        return x\n"
   ]
  },
  {
   "cell_type": "code",
   "execution_count": 12,
   "metadata": {},
   "outputs": [
    {
     "name": "stdout",
     "output_type": "stream",
     "text": [
      "========================================================\n",
      " Обучаем сеть:  FeedForward(\n",
      "  (bn1): BatchNorm1d(3, eps=1e-05, momentum=0.1, affine=True, track_running_stats=True)\n",
      "  (fc1): Linear(in_features=3, out_features=100, bias=True)\n",
      "  (dp): Dropout(p=0.25, inplace=False)\n",
      "  (fc2): Linear(in_features=100, out_features=1, bias=True)\n",
      ")\n",
      " Оптимизатор:  SGD (\n",
      "Parameter Group 0\n",
      "    dampening: 0\n",
      "    lr: 0.01\n",
      "    momentum: 0\n",
      "    nesterov: False\n",
      "    weight_decay: 0\n",
      ")\n",
      " До обучения\n",
      "    Train loss:  0.33923378586769104\n",
      "    Test loss:  0.3392110764980316\n",
      "--------- Эпоха  0 / 10  ------------------\n"
     ]
    },
    {
     "name": "stderr",
     "output_type": "stream",
     "text": [
      "100%|██████████████████████████████████████████████████████████████████████████████| 1102/1102 [00:13<00:00, 80.35it/s]\n"
     ]
    },
    {
     "name": "stdout",
     "output_type": "stream",
     "text": [
      "Выучено батчей :  1102; loss: 0.207\n",
      "--------- Эпоха  1 / 10  ------------------\n"
     ]
    },
    {
     "name": "stderr",
     "output_type": "stream",
     "text": [
      "100%|██████████████████████████████████████████████████████████████████████████████| 1102/1102 [00:13<00:00, 81.07it/s]\n"
     ]
    },
    {
     "name": "stdout",
     "output_type": "stream",
     "text": [
      "Выучено батчей :  1102; loss: 0.196\n",
      "--------- Эпоха  2 / 10  ------------------\n"
     ]
    },
    {
     "name": "stderr",
     "output_type": "stream",
     "text": [
      "100%|██████████████████████████████████████████████████████████████████████████████| 1102/1102 [00:13<00:00, 79.84it/s]\n"
     ]
    },
    {
     "name": "stdout",
     "output_type": "stream",
     "text": [
      "Выучено батчей :  1102; loss: 0.196\n",
      "--------- Эпоха  3 / 10  ------------------\n"
     ]
    },
    {
     "name": "stderr",
     "output_type": "stream",
     "text": [
      "100%|██████████████████████████████████████████████████████████████████████████████| 1102/1102 [00:13<00:00, 81.64it/s]\n"
     ]
    },
    {
     "name": "stdout",
     "output_type": "stream",
     "text": [
      "Выучено батчей :  1102; loss: 0.196\n",
      "--------- Эпоха  4 / 10  ------------------\n"
     ]
    },
    {
     "name": "stderr",
     "output_type": "stream",
     "text": [
      "100%|██████████████████████████████████████████████████████████████████████████████| 1102/1102 [00:13<00:00, 79.91it/s]\n"
     ]
    },
    {
     "name": "stdout",
     "output_type": "stream",
     "text": [
      "Выучено батчей :  1102; loss: 0.195\n",
      "--------- Эпоха  5 / 10  ------------------\n"
     ]
    },
    {
     "name": "stderr",
     "output_type": "stream",
     "text": [
      "100%|██████████████████████████████████████████████████████████████████████████████| 1102/1102 [00:13<00:00, 80.54it/s]\n"
     ]
    },
    {
     "name": "stdout",
     "output_type": "stream",
     "text": [
      "Выучено батчей :  1102; loss: 0.195\n",
      "--------- Эпоха  6 / 10  ------------------\n"
     ]
    },
    {
     "name": "stderr",
     "output_type": "stream",
     "text": [
      "100%|██████████████████████████████████████████████████████████████████████████████| 1102/1102 [00:13<00:00, 80.39it/s]\n"
     ]
    },
    {
     "name": "stdout",
     "output_type": "stream",
     "text": [
      "Выучено батчей :  1102; loss: 0.195\n",
      "--------- Эпоха  7 / 10  ------------------\n"
     ]
    },
    {
     "name": "stderr",
     "output_type": "stream",
     "text": [
      "100%|██████████████████████████████████████████████████████████████████████████████| 1102/1102 [00:14<00:00, 77.98it/s]\n"
     ]
    },
    {
     "name": "stdout",
     "output_type": "stream",
     "text": [
      "Выучено батчей :  1102; loss: 0.195\n",
      "--------- Эпоха  8 / 10  ------------------\n"
     ]
    },
    {
     "name": "stderr",
     "output_type": "stream",
     "text": [
      "100%|██████████████████████████████████████████████████████████████████████████████| 1102/1102 [00:14<00:00, 77.48it/s]\n"
     ]
    },
    {
     "name": "stdout",
     "output_type": "stream",
     "text": [
      "Выучено батчей :  1102; loss: 0.195\n",
      "--------- Эпоха  9 / 10  ------------------\n"
     ]
    },
    {
     "name": "stderr",
     "output_type": "stream",
     "text": [
      "100%|██████████████████████████████████████████████████████████████████████████████| 1102/1102 [00:14<00:00, 73.69it/s]\n"
     ]
    },
    {
     "name": "stdout",
     "output_type": "stream",
     "text": [
      "Выучено батчей :  1102; loss: 0.195\n",
      " Обучение закончено!\n",
      " После обучения\n",
      "    Train loss:  0.1947583109140396\n",
      "    Test loss:  0.1948176771402359\n",
      "========================================================\n",
      " Обучаем сеть:  FeedForward(\n",
      "  (bn1): BatchNorm1d(3, eps=1e-05, momentum=0.1, affine=True, track_running_stats=True)\n",
      "  (fc1): Linear(in_features=3, out_features=100, bias=True)\n",
      "  (dp): Dropout(p=0.25, inplace=False)\n",
      "  (fc2): Linear(in_features=100, out_features=1, bias=True)\n",
      ")\n",
      " Оптимизатор:  RMSprop (\n",
      "Parameter Group 0\n",
      "    alpha: 0.99\n",
      "    centered: False\n",
      "    eps: 1e-08\n",
      "    lr: 0.01\n",
      "    momentum: 0\n",
      "    weight_decay: 0\n",
      ")\n",
      " До обучения\n",
      "    Train loss:  0.4049396812915802\n",
      "    Test loss:  0.40494832396507263\n",
      "--------- Эпоха  0 / 10  ------------------\n"
     ]
    },
    {
     "name": "stderr",
     "output_type": "stream",
     "text": [
      "100%|██████████████████████████████████████████████████████████████████████████████| 1102/1102 [00:15<00:00, 70.85it/s]\n"
     ]
    },
    {
     "name": "stdout",
     "output_type": "stream",
     "text": [
      "Выучено батчей :  1102; loss: 0.194\n",
      "--------- Эпоха  1 / 10  ------------------\n"
     ]
    },
    {
     "name": "stderr",
     "output_type": "stream",
     "text": [
      "100%|██████████████████████████████████████████████████████████████████████████████| 1102/1102 [00:14<00:00, 77.69it/s]\n"
     ]
    },
    {
     "name": "stdout",
     "output_type": "stream",
     "text": [
      "Выучено батчей :  1102; loss: 0.194\n",
      "--------- Эпоха  2 / 10  ------------------\n"
     ]
    },
    {
     "name": "stderr",
     "output_type": "stream",
     "text": [
      "100%|██████████████████████████████████████████████████████████████████████████████| 1102/1102 [00:14<00:00, 76.56it/s]\n"
     ]
    },
    {
     "name": "stdout",
     "output_type": "stream",
     "text": [
      "Выучено батчей :  1102; loss: 0.194\n",
      "--------- Эпоха  3 / 10  ------------------\n"
     ]
    },
    {
     "name": "stderr",
     "output_type": "stream",
     "text": [
      "100%|██████████████████████████████████████████████████████████████████████████████| 1102/1102 [00:15<00:00, 73.18it/s]\n"
     ]
    },
    {
     "name": "stdout",
     "output_type": "stream",
     "text": [
      "Выучено батчей :  1102; loss: 0.194\n",
      "--------- Эпоха  4 / 10  ------------------\n"
     ]
    },
    {
     "name": "stderr",
     "output_type": "stream",
     "text": [
      "100%|██████████████████████████████████████████████████████████████████████████████| 1102/1102 [00:13<00:00, 78.85it/s]\n"
     ]
    },
    {
     "name": "stdout",
     "output_type": "stream",
     "text": [
      "Выучено батчей :  1102; loss: 0.194\n",
      "--------- Эпоха  5 / 10  ------------------\n"
     ]
    },
    {
     "name": "stderr",
     "output_type": "stream",
     "text": [
      "100%|██████████████████████████████████████████████████████████████████████████████| 1102/1102 [00:14<00:00, 78.12it/s]\n"
     ]
    },
    {
     "name": "stdout",
     "output_type": "stream",
     "text": [
      "Выучено батчей :  1102; loss: 0.194\n",
      "--------- Эпоха  6 / 10  ------------------\n"
     ]
    },
    {
     "name": "stderr",
     "output_type": "stream",
     "text": [
      "100%|██████████████████████████████████████████████████████████████████████████████| 1102/1102 [00:13<00:00, 78.91it/s]\n"
     ]
    },
    {
     "name": "stdout",
     "output_type": "stream",
     "text": [
      "Выучено батчей :  1102; loss: 0.194\n",
      "--------- Эпоха  7 / 10  ------------------\n"
     ]
    },
    {
     "name": "stderr",
     "output_type": "stream",
     "text": [
      "100%|██████████████████████████████████████████████████████████████████████████████| 1102/1102 [00:13<00:00, 79.01it/s]\n"
     ]
    },
    {
     "name": "stdout",
     "output_type": "stream",
     "text": [
      "Выучено батчей :  1102; loss: 0.194\n",
      "--------- Эпоха  8 / 10  ------------------\n"
     ]
    },
    {
     "name": "stderr",
     "output_type": "stream",
     "text": [
      "100%|██████████████████████████████████████████████████████████████████████████████| 1102/1102 [00:13<00:00, 79.57it/s]\n"
     ]
    },
    {
     "name": "stdout",
     "output_type": "stream",
     "text": [
      "Выучено батчей :  1102; loss: 0.194\n",
      "--------- Эпоха  9 / 10  ------------------\n"
     ]
    },
    {
     "name": "stderr",
     "output_type": "stream",
     "text": [
      "100%|██████████████████████████████████████████████████████████████████████████████| 1102/1102 [00:13<00:00, 78.91it/s]\n"
     ]
    },
    {
     "name": "stdout",
     "output_type": "stream",
     "text": [
      "Выучено батчей :  1102; loss: 0.194\n",
      " Обучение закончено!\n",
      " После обучения\n",
      "    Train loss:  0.193622425198555\n",
      "    Test loss:  0.193622425198555\n",
      "========================================================\n",
      " Обучаем сеть:  FeedForward(\n",
      "  (bn1): BatchNorm1d(3, eps=1e-05, momentum=0.1, affine=True, track_running_stats=True)\n",
      "  (fc1): Linear(in_features=3, out_features=100, bias=True)\n",
      "  (dp): Dropout(p=0.25, inplace=False)\n",
      "  (fc2): Linear(in_features=100, out_features=1, bias=True)\n",
      ")\n",
      " Оптимизатор:  Adam (\n",
      "Parameter Group 0\n",
      "    amsgrad: False\n",
      "    betas: (0.9, 0.999)\n",
      "    eps: 1e-08\n",
      "    lr: 0.01\n",
      "    weight_decay: 0\n",
      ")\n",
      " До обучения\n",
      "    Train loss:  0.3708515763282776\n",
      "    Test loss:  0.37087273597717285\n",
      "--------- Эпоха  0 / 10  ------------------\n"
     ]
    },
    {
     "name": "stderr",
     "output_type": "stream",
     "text": [
      "100%|██████████████████████████████████████████████████████████████████████████████| 1102/1102 [00:13<00:00, 79.29it/s]\n"
     ]
    },
    {
     "name": "stdout",
     "output_type": "stream",
     "text": [
      "Выучено батчей :  1102; loss: 0.195\n",
      "--------- Эпоха  1 / 10  ------------------\n"
     ]
    },
    {
     "name": "stderr",
     "output_type": "stream",
     "text": [
      "100%|██████████████████████████████████████████████████████████████████████████████| 1102/1102 [00:14<00:00, 78.22it/s]\n"
     ]
    },
    {
     "name": "stdout",
     "output_type": "stream",
     "text": [
      "Выучено батчей :  1102; loss: 0.194\n",
      "--------- Эпоха  2 / 10  ------------------\n"
     ]
    },
    {
     "name": "stderr",
     "output_type": "stream",
     "text": [
      "100%|██████████████████████████████████████████████████████████████████████████████| 1102/1102 [00:14<00:00, 78.56it/s]\n"
     ]
    },
    {
     "name": "stdout",
     "output_type": "stream",
     "text": [
      "Выучено батчей :  1102; loss: 0.194\n",
      "--------- Эпоха  3 / 10  ------------------\n"
     ]
    },
    {
     "name": "stderr",
     "output_type": "stream",
     "text": [
      "100%|██████████████████████████████████████████████████████████████████████████████| 1102/1102 [00:14<00:00, 77.57it/s]\n"
     ]
    },
    {
     "name": "stdout",
     "output_type": "stream",
     "text": [
      "Выучено батчей :  1102; loss: 0.194\n",
      "--------- Эпоха  4 / 10  ------------------\n"
     ]
    },
    {
     "name": "stderr",
     "output_type": "stream",
     "text": [
      "100%|██████████████████████████████████████████████████████████████████████████████| 1102/1102 [00:14<00:00, 76.33it/s]\n"
     ]
    },
    {
     "name": "stdout",
     "output_type": "stream",
     "text": [
      "Выучено батчей :  1102; loss: 0.194\n",
      "--------- Эпоха  5 / 10  ------------------\n"
     ]
    },
    {
     "name": "stderr",
     "output_type": "stream",
     "text": [
      "100%|██████████████████████████████████████████████████████████████████████████████| 1102/1102 [00:14<00:00, 77.06it/s]\n"
     ]
    },
    {
     "name": "stdout",
     "output_type": "stream",
     "text": [
      "Выучено батчей :  1102; loss: 0.194\n",
      "--------- Эпоха  6 / 10  ------------------\n"
     ]
    },
    {
     "name": "stderr",
     "output_type": "stream",
     "text": [
      "100%|██████████████████████████████████████████████████████████████████████████████| 1102/1102 [00:14<00:00, 78.18it/s]\n"
     ]
    },
    {
     "name": "stdout",
     "output_type": "stream",
     "text": [
      "Выучено батчей :  1102; loss: 0.194\n",
      "--------- Эпоха  7 / 10  ------------------\n"
     ]
    },
    {
     "name": "stderr",
     "output_type": "stream",
     "text": [
      "100%|██████████████████████████████████████████████████████████████████████████████| 1102/1102 [00:14<00:00, 76.60it/s]\n"
     ]
    },
    {
     "name": "stdout",
     "output_type": "stream",
     "text": [
      "Выучено батчей :  1102; loss: 0.194\n",
      "--------- Эпоха  8 / 10  ------------------\n"
     ]
    },
    {
     "name": "stderr",
     "output_type": "stream",
     "text": [
      "100%|██████████████████████████████████████████████████████████████████████████████| 1102/1102 [00:14<00:00, 75.80it/s]\n"
     ]
    },
    {
     "name": "stdout",
     "output_type": "stream",
     "text": [
      "Выучено батчей :  1102; loss: 0.194\n",
      "--------- Эпоха  9 / 10  ------------------\n"
     ]
    },
    {
     "name": "stderr",
     "output_type": "stream",
     "text": [
      "100%|██████████████████████████████████████████████████████████████████████████████| 1102/1102 [00:14<00:00, 77.62it/s]\n"
     ]
    },
    {
     "name": "stdout",
     "output_type": "stream",
     "text": [
      "Выучено батчей :  1102; loss: 0.194\n",
      " Обучение закончено!\n",
      " После обучения\n",
      "    Train loss:  0.19360269606113434\n",
      "    Test loss:  0.19360268115997314\n"
     ]
    }
   ],
   "source": [
    "def dataset_to_tensor(ds, part):\n",
    "    return torch.stack([r[part] for r in ds_train])\n",
    "\n",
    "def get_total_loss(net, ds, loss):\n",
    "    t0 = net(dataset_to_tensor(ds, 0)).reshape(-1)\n",
    "    t1 = dataset_to_tensor(ds, 1)\n",
    "    return loss(t0, t1)\n",
    "    \n",
    "def train_and_test(ds_train, ds_test, optimizer_class, n_epochs=10, lr=0.01, report_on=-1, batch_size=1024, hidden_params=100):\n",
    "    net = FeedForward(3, hidden_params)\n",
    "    \n",
    "    print('========================================================')\n",
    "    print(' Обучаем сеть: ', net)\n",
    "    \n",
    "    optimizer = optimizer_class(net.parameters(), lr=0.01)\n",
    "    print(' Оптимизатор: ', optimizer)\n",
    "\n",
    "    print(' До обучения')\n",
    "    print('    Train loss: ', float(get_total_loss(net, ds_train, log_rmse)))\n",
    "    print('    Test loss: ', float(get_total_loss(net, ds_test, log_rmse)))\n",
    "    \n",
    "    dl_train = torch.utils.data.DataLoader(ds_train, batch_size=batch_size)\n",
    "    \n",
    "    report_on = max(len(dl_train) if report_on == -1 else report_on, 1)\n",
    "    \n",
    "    for epoch in range(n_epochs):\n",
    "        print('--------- Эпоха ', epoch, '/', n_epochs, ' ------------------')\n",
    "        running_loss = 0.0\n",
    "        for i, data in enumerate(tqdm(dl_train)):\n",
    "            inputs, labels = data[0], data[1]\n",
    "\n",
    "            # обнуляем градиент\n",
    "            optimizer.zero_grad()\n",
    "\n",
    "            outputs = net(inputs)\n",
    "            loss = log_rmse(outputs, labels)\n",
    "            loss.backward()\n",
    "            optimizer.step()\n",
    "\n",
    "            # выводим статистику о процессе обучения\n",
    "            running_loss += loss.item()\n",
    "            if (i+1) % report_on == 0:    # печатаем каждые report_on mini-batches\n",
    "                print('Выучено батчей : %5d; loss: %.3f' % (i + 1, running_loss / report_on))\n",
    "                running_loss = 0.0\n",
    "                \n",
    "    print(' Обучение закончено!')\n",
    "    print(' После обучения')\n",
    "    print('    Train loss: ', float(get_total_loss(net, ds_train, log_rmse)))\n",
    "    print('    Test loss: ', float(get_total_loss(net, ds_test, log_rmse)))\n",
    "    \n",
    "train_and_test(ds_train, ds_test, torch.optim.SGD)\n",
    "train_and_test(ds_train, ds_test, torch.optim.RMSprop)\n",
    "train_and_test(ds_train, ds_test, torch.optim.Adam)"
   ]
  },
  {
   "cell_type": "markdown",
   "metadata": {},
   "source": [
    "## Выводы\n",
    "* Все оптимизаторы использовались с параметрами по умолчанию, lr=0.01\n",
    "* Модель обучалась примерно до одинаковых значений функции потерь всеми 3мя оптимизаторами. Функция потерь уменьшалась от ~0.36-0.40 до 0.94. \n",
    "* Медленнее всего сходился SGD, показал близкое к финальному значение примерно после 5й эпохи, и оно (0.195) было похуже чем на 2х других оптимизаторах (0.194)\n",
    "* Быстрее всех сошелся RMSprop, после 1й эпохи. Adam почти сошелся после 1й эпохи, но немного улучшился (от 0.195 до 0.194) после второй эпохи) \n",
    "* Ощущается нехватка данных для обучения. Я не смогла скачать весь набор из-за верификации телефона, train.csv поделились одногрупники. Получилось всего 3 числовых признака. Вероятно, использование признаков user и item дало бы больше информации. "
   ]
  },
  {
   "cell_type": "code",
   "execution_count": null,
   "metadata": {},
   "outputs": [],
   "source": []
  }
 ],
 "metadata": {
  "kernelspec": {
   "display_name": "Python 3 (ipykernel)",
   "language": "python",
   "name": "python3"
  },
  "language_info": {
   "codemirror_mode": {
    "name": "ipython",
    "version": 3
   },
   "file_extension": ".py",
   "mimetype": "text/x-python",
   "name": "python",
   "nbconvert_exporter": "python",
   "pygments_lexer": "ipython3",
   "version": "3.7.12"
  }
 },
 "nbformat": 4,
 "nbformat_minor": 2
}
